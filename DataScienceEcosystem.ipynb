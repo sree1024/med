{
 "cells": [
  {
   "cell_type": "markdown",
   "id": "1fb0068c-60f0-4ff5-a4ec-1a93bd00f4fc",
   "metadata": {},
   "source": [
    "# Data Science Ecosystem and tools"
   ]
  },
  {
   "cell_type": "markdown",
   "id": "520d4ae8-6768-400e-aa73-be7557a93752",
   "metadata": {},
   "source": [
    "In this notebook, data science tools and numbers are summarized."
   ]
  },
  {
   "cell_type": "markdown",
   "id": "60869f21-b3ac-43ae-bba2-eabfa3fc1c4e",
   "metadata": {},
   "source": [
    "**Objectives**"
   ]
  },
  {
   "cell_type": "markdown",
   "id": "9e67cbd5-b5da-4a89-9673-1bfc191f7cab",
   "metadata": {},
   "source": [
    "* list of popular languages\n",
    "* list of data science libraries\n",
    "* list of data science tools"
   ]
  },
  {
   "cell_type": "markdown",
   "id": "a35dc7b0-7104-43b1-8f00-629aa8993186",
   "metadata": {},
   "source": [
    "Some of the popular languages that Data Scientists uses are\n",
    "1. Python\n",
    "2. Java\n",
    "3. Scala\n",
    "4. SQL"
   ]
  },
  {
   "cell_type": "markdown",
   "id": "c7b55175-77ef-4d0b-a890-ef4fc365edd0",
   "metadata": {},
   "source": [
    "Some of the commonly used Data libraries by Data scientist includes:\n",
    "1. pandas\n",
    "2. PyTorch\n",
    "3. NumPy\n",
    "4. SciPy\n"
   ]
  },
  {
   "cell_type": "markdown",
   "id": "ea8f803d-df5e-4384-a25f-7d0ee81bd94b",
   "metadata": {},
   "source": [
    "Data science tools\n",
    "-----------------\n",
    "apache Hadoop\n",
    "\n",
    "RStudio\n",
    "\n",
    "TenserFlow\n",
    "\n",
    "Python\n"
   ]
  },
  {
   "cell_type": "markdown",
   "id": "311197e8-fa0f-41a8-9d18-1aa249e44cf3",
   "metadata": {},
   "source": [
    "### Below are few examples of using arthemetic expressions in python"
   ]
  },
  {
   "cell_type": "markdown",
   "id": "e89ea271-0828-4fca-9591-ae8f74d42035",
   "metadata": {},
   "source": [
    "this is a simple arthemetic expression of multiplication and addition"
   ]
  },
  {
   "cell_type": "code",
   "execution_count": 2,
   "id": "35cdf38b-7511-4df6-b0ef-5c0b3350af3e",
   "metadata": {},
   "outputs": [
    {
     "data": {
      "text/plain": [
       "17"
      ]
     },
     "execution_count": 2,
     "metadata": {},
     "output_type": "execute_result"
    }
   ],
   "source": [
    "(3*4)+5"
   ]
  },
  {
   "cell_type": "markdown",
   "id": "904a7159-1043-4288-90ff-c1625dd774d2",
   "metadata": {},
   "source": [
    "this will convert 200 minutes to hours by dividing by 60"
   ]
  },
  {
   "cell_type": "code",
   "execution_count": 3,
   "id": "2286e6a3-7ff4-4830-8364-4235ee3592e4",
   "metadata": {},
   "outputs": [
    {
     "data": {
      "text/plain": [
       "3.3333333333333335"
      ]
     },
     "execution_count": 3,
     "metadata": {},
     "output_type": "execute_result"
    }
   ],
   "source": [
    "minutes = 200\n",
    "hours = 60\n",
    "minutes/hours"
   ]
  },
  {
   "cell_type": "markdown",
   "id": "bfa5112f-c449-4aaa-859d-1a14a566158f",
   "metadata": {},
   "source": [
    "## Author \n",
    "Sreenidhi Chandrashekar"
   ]
  },
  {
   "cell_type": "code",
   "execution_count": null,
   "id": "59246cf3-4cf1-49c3-abfe-e5a6c9dc56fc",
   "metadata": {},
   "outputs": [],
   "source": []
  }
 ],
 "metadata": {
  "kernelspec": {
   "display_name": "Python 3 (ipykernel)",
   "language": "python",
   "name": "python3"
  },
  "language_info": {
   "codemirror_mode": {
    "name": "ipython",
    "version": 3
   },
   "file_extension": ".py",
   "mimetype": "text/x-python",
   "name": "python",
   "nbconvert_exporter": "python",
   "pygments_lexer": "ipython3",
   "version": "3.12.8"
  }
 },
 "nbformat": 4,
 "nbformat_minor": 5
}
